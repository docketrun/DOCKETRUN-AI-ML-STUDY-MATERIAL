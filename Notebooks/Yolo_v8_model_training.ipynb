{
  "nbformat": 4,
  "nbformat_minor": 0,
  "metadata": {
    "colab": {
      "provenance": []
    },
    "kernelspec": {
      "name": "python3",
      "display_name": "Python 3"
    },
    "language_info": {
      "name": "python"
    }
  },
  "cells": [
    {
      "cell_type": "markdown",
      "source": [
        "# **Copyright and Author Information**\n",
        "\n",
        "Copyright © [2024] Docketrun Tech Private Limited. All rights reserved.\n",
        "\n",
        "This notebook is open-sourced and available under the [MIT License](https://opensource.org/licenses/MIT).\n",
        "\n",
        "Author: Yahiya Mulla\n",
        "\n",
        "This Colab notebook is provided for educational and informational purposes only. You are free to use, modify, and distribute it, provided that proper attribution is given.\n",
        "\n",
        "**Disclaimer:** The information in this notebook is provided \"as is,\" without warranty of any kind. The authors or the company do not accept any responsibility for errors or omissions in the content."
      ],
      "metadata": {
        "id": "ae3gqz45nwqN"
      }
    },
    {
      "cell_type": "markdown",
      "source": [
        "## **Installing the required libraries**"
      ],
      "metadata": {
        "id": "PJw-2soTn9P7"
      }
    },
    {
      "cell_type": "code",
      "execution_count": null,
      "metadata": {
        "id": "eJhLxsr0Hmo6"
      },
      "outputs": [],
      "source": [
        "!pip install ultralytics\n",
        "!pip install gradio"
      ]
    },
    {
      "cell_type": "markdown",
      "source": [
        "## **Importing the required libraries and initializing the YOLO-V8 small model for the training**"
      ],
      "metadata": {
        "id": "giTG55oZoVPH"
      }
    },
    {
      "cell_type": "code",
      "source": [
        "from ultralytics import YOLO\n",
        "from ultralytics.engine.results import Results\n",
        "from IPython.display import display, Image\n",
        "model = YOLO('yolov8s.pt')"
      ],
      "metadata": {
        "id": "pAo6Hmz3If_u"
      },
      "execution_count": null,
      "outputs": []
    },
    {
      "cell_type": "markdown",
      "source": [
        "## **Downloading the dataset**"
      ],
      "metadata": {
        "id": "ScoMKH0xpbOm"
      }
    },
    {
      "cell_type": "code",
      "source": [
        "!pip install gdown\n",
        "\n",
        "import gdown\n",
        "\n",
        "# File ID from the Google Drive shareable link\n",
        "file_id = '1YKob-wksMNQYVzr3iNanHSSz7CZkLaCh'\n",
        "\n",
        "# Construct the URL for gdown\n",
        "url = f'https://drive.google.com/uc?id={file_id}'\n",
        "\n",
        "# Destination path in Colab's local storage\n",
        "output = '/content/cube_data.zip'\n",
        "\n",
        "# Download the file\n",
        "gdown.download(url, output, quiet=False)\n"
      ],
      "metadata": {
        "id": "Tlpb3Fh8YFyV"
      },
      "execution_count": null,
      "outputs": []
    },
    {
      "cell_type": "markdown",
      "source": [
        "## **Preparing the dataset**"
      ],
      "metadata": {
        "id": "b68pbN-6pw91"
      }
    },
    {
      "cell_type": "code",
      "source": [
        "!unzip \"cube_data.zip\""
      ],
      "metadata": {
        "id": "ivjHTNySQTmR"
      },
      "execution_count": null,
      "outputs": []
    },
    {
      "cell_type": "code",
      "source": [
        "!sed -i '1s/.*/train: \\/content\\/cube_data\\/training\\/images/' '/content/cube_data/data.yaml'\n",
        "!sed -i '2s/.*/val: \\/content\\/cube_data\\/testing\\/images/' '/content/cube_data/data.yaml'\n",
        "!sed -i '3s/.*/#test: \\/content\\/cube_data\\/test\\/images/' '/content/cube_data/data.yaml'\n",
        "!cat '/content/cube_data/data.yaml'"
      ],
      "metadata": {
        "id": "l1kP2sOVRi21"
      },
      "execution_count": null,
      "outputs": []
    },
    {
      "cell_type": "markdown",
      "source": [
        "## **Training**"
      ],
      "metadata": {
        "id": "Tzi_8rWfqFtG"
      }
    },
    {
      "cell_type": "code",
      "source": [
        "results = model.train(data='cube_data/data.yaml',epochs=100,imgsz=640, project='cube_data', name='output', batch=8, workers=4, augment=True, lr0=0.001, lrf=0.001, warmup_epochs=3.0)"
      ],
      "metadata": {
        "id": "Abu-DuZ4Inwl"
      },
      "execution_count": null,
      "outputs": []
    },
    {
      "cell_type": "code",
      "source": [
        "# File ID from the Google Drive shareable link\n",
        "file_id = '1i8PxRdIsltPikH7u06iDFKGiOJ-RzHwB'\n",
        "\n",
        "# Construct the URL for gdown\n",
        "url = f'https://drive.google.com/uc?id={file_id}'\n",
        "\n",
        "# Destination path in Colab's local storage\n",
        "output = '/content/cube_data_merged.zip'\n",
        "\n",
        "# Download the file\n",
        "gdown.download(url, output, quiet=False)"
      ],
      "metadata": {
        "id": "M3BSzNPvwifz"
      },
      "execution_count": null,
      "outputs": []
    },
    {
      "cell_type": "code",
      "source": [
        "import locale\n",
        "locale.getpreferredencoding = lambda: \"UTF-8\"\n",
        "\n",
        "!mv -r /content/cube_data /content/cube_data_old\n",
        "!unzip \"/content/cube_data_merged.zip\""
      ],
      "metadata": {
        "id": "KYYkZTjs7EzK"
      },
      "execution_count": null,
      "outputs": []
    },
    {
      "cell_type": "code",
      "source": [
        "import locale\n",
        "locale.getpreferredencoding = lambda: \"UTF-8\"\n",
        "\n",
        "!sed -i '1s/.*/train: \\/content\\/cube_data\\/training\\/images/' '/content/cube_data/data_cube.yaml'\n",
        "!sed -i '2s/.*/val: \\/content\\/cube_data\\/testing\\/images/' '/content/cube_data/data_cube.yaml'\n",
        "!sed -i '3s/.*/#test: \\/content\\/cube_data\\/test\\/images/' '/content/cube_data/data_cube.yaml'\n",
        "!sed -i '5s/.*/nc: 1/' '/content/cube_data/data_cube.yaml'\n",
        "!sed -i \"6s/.*/names: ['cube']/\" /content/cube_data/data_cube.yaml\n",
        "!cat '/content/cube_data/data_cube.yaml'"
      ],
      "metadata": {
        "id": "b3OcqZMhzqLZ"
      },
      "execution_count": null,
      "outputs": []
    },
    {
      "cell_type": "code",
      "source": [
        "results = model.train(data='cube_data/data_cube.yaml',epochs=100,imgsz=640, project='cube_data', name='output', batch=8, workers=4, augment=True, lr0=0.001, lrf=0.001, warmup_epochs=3.0)"
      ],
      "metadata": {
        "id": "XDXi3ZxN2t94"
      },
      "execution_count": null,
      "outputs": []
    },
    {
      "cell_type": "code",
      "source": [
        "results = model.train(data='cube_data/data_cube.yaml',epochs=100,imgsz=640, project='cube_data', name='output1', batch=8, workers=4, augment=True, lr0=0.0001, lrf=0.0001, warmup_epochs=3.0, warmup_bias_lr=0.0001)"
      ],
      "metadata": {
        "id": "X9L52M5i90yB"
      },
      "execution_count": null,
      "outputs": []
    },
    {
      "cell_type": "code",
      "source": [
        "model_scratch =YOLO('yolov8s.yaml')\n",
        "\n",
        "results = model.train(data='cube_data/data_cube.yaml',epochs=100,imgsz=640, project='cube_data', name='output2', batch=8, workers=4, augment=True, pretrained=False, lr0=0.0001, lrf=0.0001, warmup_epochs=3.0, warmup_bias_lr=0.0001, optimizer='NAdam')"
      ],
      "metadata": {
        "id": "VzvWcbvn_oiL"
      },
      "execution_count": null,
      "outputs": []
    }
  ]
}