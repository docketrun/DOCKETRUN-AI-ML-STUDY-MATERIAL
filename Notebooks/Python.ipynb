{
  "nbformat": 4,
  "nbformat_minor": 0,
  "metadata": {
    "colab": {
      "provenance": [],
      "toc_visible": true
    },
    "kernelspec": {
      "name": "python3",
      "display_name": "Python 3"
    },
    "language_info": {
      "name": "python"
    }
  },
  "cells": [
    {
      "cell_type": "markdown",
      "source": [
        "# **Copyright and Author Information**\n",
        "\n",
        "Copyright © [2024] Docketrun Tech Private Limited. All rights reserved.\n",
        "\n",
        "This notebook is open-sourced and available under the [MIT License](https://opensource.org/licenses/MIT).\n",
        "\n",
        "Author: Krishna Katigar\n",
        "\n",
        "This Colab notebook is provided for educational and informational purposes only. You are free to use, modify, and distribute it, provided that proper attribution is given.\n",
        "\n",
        "**Disclaimer:** The information in this notebook is provided \"as is,\" without warranty of any kind. The authors or the company do not accept any responsibility for errors or omissions in the content."
      ],
      "metadata": {
        "id": "DPpYlzsuiVk5"
      }
    },
    {
      "cell_type": "markdown",
      "source": [
        "##Dictionary"
      ],
      "metadata": {
        "id": "oP5VWVtvpQeT"
      }
    },
    {
      "cell_type": "markdown",
      "source": [
        "**Python Dictionary** is like a map that is used to store data in the form of a key: value pair. Python provides various built-in functions to deal with dictionaries. In this article, we will see a list of all the functions provided by Python to work with dictionaries."
      ],
      "metadata": {
        "id": "DiyItueopfXo"
      }
    },
    {
      "cell_type": "code",
      "execution_count": null,
      "metadata": {
        "id": "LlcLOaAgi_Jn"
      },
      "outputs": [],
      "source": [
        "my_dict = {'1': 'Docket', '2': 'Run', '3': 'Tech','4':'Pvt','5':'Ltd'}\n",
        "print(my_dict)"
      ]
    },
    {
      "cell_type": "markdown",
      "source": [
        "Dictionary Buil in Methods"
      ],
      "metadata": {
        "id": "QvDLGixDqDXX"
      }
    },
    {
      "cell_type": "markdown",
      "source": [
        "**Dictionary get() Method**\n",
        "\n",
        "In Python, the get() method is a pre-built dictionary function that enables you to obtain the value linked to a particular key in a dictionary. It is a secure method to access dictionary values without causing a KeyError if the key isn’t present."
      ],
      "metadata": {
        "id": "ar0Aa8c9vOUS"
      }
    },
    {
      "cell_type": "code",
      "source": [
        "d = {'Name': 'Ram', 'Age': '19', 'Country': 'India'}\n",
        "print(d.get('Name'))\n",
        "print(d.get('Gender'))"
      ],
      "metadata": {
        "id": "79l0L4rQveJE"
      },
      "execution_count": null,
      "outputs": []
    },
    {
      "cell_type": "markdown",
      "source": [
        "**Dictionary keys() Method**\n",
        "The keys() method in Python returns a view object with dictionary keys, allowing efficient access and iteration."
      ],
      "metadata": {
        "id": "rSx3pdOMvg5M"
      }
    },
    {
      "cell_type": "code",
      "source": [
        "d = {'Name': 'Ram', 'Age': '19', 'Country': 'India'}\n",
        "print(list(d.keys()))"
      ],
      "metadata": {
        "id": "6DZEIHWhvrTV"
      },
      "execution_count": null,
      "outputs": []
    },
    {
      "cell_type": "markdown",
      "source": [
        "**Dictionary values() Method**\n",
        "The values() method in Python returns a view object containing all dictionary values, which can be accessed and iterated through efficiently."
      ],
      "metadata": {
        "id": "alQWoFKAvwOS"
      }
    },
    {
      "cell_type": "code",
      "source": [
        "d = {'Name': 'Ram', 'Age': '19', 'Country': 'India'}\n",
        "print(list(d.values()))"
      ],
      "metadata": {
        "id": "GfMM4bSgv2PY"
      },
      "execution_count": null,
      "outputs": []
    },
    {
      "cell_type": "markdown",
      "source": [
        "**Dictionary update() Method**\n",
        "Python’s update() method is a built-in dictionary function that updates the key-value pairs of a dictionary using elements from another dictionary or an iterable of key-value pairs. With this method, you can include new data or merge it with existing dictionary entries."
      ],
      "metadata": {
        "id": "dmyz66PLwCeR"
      }
    },
    {
      "cell_type": "code",
      "source": [
        "d1 = {'Name': 'Ram', 'Age': '19', 'Country': 'India'}\n",
        "d2 = {'Name': 'Neha', 'Age': '22'}\n",
        "\n",
        "d1.update(d2)\n",
        "print(d1)"
      ],
      "metadata": {
        "id": "zKxX6BBOwF3Q"
      },
      "execution_count": null,
      "outputs": []
    },
    {
      "cell_type": "markdown",
      "source": [
        "**Dictionary pop() Method**\n",
        "In Python, the pop() method is a pre-existing dictionary method that removes and retrieves the value linked with a given key from a dictionary. If the key is not present in the dictionary, you can set an optional default value to be returned."
      ],
      "metadata": {
        "id": "JEIp8l6-wJbM"
      }
    },
    {
      "cell_type": "code",
      "source": [
        "d = {'Name': 'Ram', 'Age': '19', 'Country': 'India'}\n",
        "d.pop('Age')\n",
        "print(d)"
      ],
      "metadata": {
        "id": "Q788xCxmwg4N"
      },
      "execution_count": null,
      "outputs": []
    },
    {
      "cell_type": "markdown",
      "source": [
        "##Set"
      ],
      "metadata": {
        "id": "46bjR6newng-"
      }
    },
    {
      "cell_type": "markdown",
      "source": [
        "A Set in Python is a collection of unique elements which are unordered and mutable."
      ],
      "metadata": {
        "id": "42X8JgsBwr0z"
      }
    },
    {
      "cell_type": "code",
      "source": [
        "s = {'g', 'e', 'k', 's'}\n",
        "print(s)"
      ],
      "metadata": {
        "id": "10Iz6BuyxwXZ"
      },
      "execution_count": null,
      "outputs": []
    },
    {
      "cell_type": "markdown",
      "source": [
        "**Set Methods**"
      ],
      "metadata": {
        "id": "8872X7mdxNyJ"
      }
    },
    {
      "cell_type": "markdown",
      "source": [
        "**union(other_set)**: Returns a set with elements from both sets.\n",
        "\n",
        "**intersection(other_set)**: Returns a set with common elements.\n",
        "\n",
        "**difference(other_set):** Returns a set with elements in the current set but not in the other.\n",
        "\n",
        "**difference_update(other_set):** Updates the set to remove elements found in the other set.\n",
        "\n",
        "**symmetric_difference(other_set):** Returns elements in either set but not both.\n"
      ],
      "metadata": {
        "id": "YmQr-QntM1kJ"
      }
    },
    {
      "cell_type": "code",
      "source": [
        "my_set = {1, 2, 3, 4, 5}\n",
        "\n",
        "# Adding\n",
        "my_set.add(6)\n",
        "print(\"After Adding\",my_set)\n",
        "\n",
        "# Removing\n",
        "my_set.remove(2)\n",
        "print(\"After Removing\",my_set)\n",
        " # Raises KeyError if 2 is not present\n",
        "\n",
        "my_set.discard(3)\n",
        "# Does not raise an error if 3 is not present\n",
        "\n",
        "# Membership\n",
        "print(4 in my_set)  # Output: True\n",
        "\n",
        "set1 = {1, 2, 3}\n",
        "set2 = {3, 4, 5}\n",
        "# Union\n",
        "print(set1.union(set2)) # Output: {1, 2, 3, 4, 5}\n",
        "# Intersection\n",
        "print(set1.intersection(set2)) # Output: {3}\n",
        "\n",
        "# Difference\n",
        "print(set1.difference(set2)) # Output: {1, 2}\n",
        "# Symmetric Difference\n",
        "print(set1.symmetric_difference(set2)) # Output: {1, 2, 4, 5}"
      ],
      "metadata": {
        "id": "Mdzh1TvbNAAY"
      },
      "execution_count": null,
      "outputs": []
    },
    {
      "cell_type": "markdown",
      "source": [
        "## List"
      ],
      "metadata": {
        "id": "6PeJezKkM_JW"
      }
    },
    {
      "cell_type": "markdown",
      "source": [
        "Lists are used to store multiple items in a single variable.\n",
        "Lists are mutable sequences that can hold multiple items."
      ],
      "metadata": {
        "id": "3P7YippXPNfK"
      }
    },
    {
      "cell_type": "markdown",
      "source": [
        "**append()**\tUsed for adding elements to the end of the List."
      ],
      "metadata": {
        "id": "x5YuF_iwTF1h"
      }
    },
    {
      "cell_type": "code",
      "source": [
        "List = ['Mathematics', 'chemistry', 1997, 2000]\n",
        "List.append(20544)\n",
        "print(List)"
      ],
      "metadata": {
        "id": "EaBiCd6JS2Us"
      },
      "execution_count": null,
      "outputs": []
    },
    {
      "cell_type": "markdown",
      "source": [
        "**index()**\tReturns the lowest index where the element appears."
      ],
      "metadata": {
        "id": "C8iQfwz5TOtH"
      }
    },
    {
      "cell_type": "code",
      "source": [
        "List = [1, 2, 3, 1, 2, 1, 2, 3, 2, 1]\n",
        "print(List.index(2))"
      ],
      "metadata": {
        "id": "3IXwONVsTZu8"
      },
      "execution_count": null,
      "outputs": []
    },
    {
      "cell_type": "markdown",
      "source": [
        "Python list **remove()** method removes a given element from the list."
      ],
      "metadata": {
        "id": "9J2TmaxfTjRa"
      }
    },
    {
      "cell_type": "code",
      "source": [
        "lis = ['a', 'b', 'c']\n",
        "lis.remove(\"b\")\n",
        "print(lis)"
      ],
      "metadata": {
        "id": "RkWftRjvTxM4"
      },
      "execution_count": null,
      "outputs": []
    },
    {
      "cell_type": "markdown",
      "source": [
        "Python List **reverse()** is an inbuilt method in the Python programming language that reverses objects of the List in place i.e. it doesn’t use any extra space but it just modifies the original list."
      ],
      "metadata": {
        "id": "V71iFuMtT087"
      }
    },
    {
      "cell_type": "code",
      "source": [
        "# Python3 program to demonstrate the\n",
        "# use of reverse method\n",
        "\n",
        "# a list of numbers\n",
        "list1 = [1, 2, 3, 4, 1, 2, 6]\n",
        "list1.reverse()\n",
        "print(list1)\n",
        "\n",
        "# a list of characters\n",
        "list2 = ['a', 'b', 'c', 'd', 'a', 'a']\n",
        "list2.reverse()\n",
        "print(list2)"
      ],
      "metadata": {
        "id": "v16EGZwIUCv-"
      },
      "execution_count": null,
      "outputs": []
    },
    {
      "cell_type": "markdown",
      "source": [
        "\n",
        "Python **list sort()** method sorts the elements of a list. It sorts in ascending order by default but can also sort values in descending order or in a custom manner using its parameters."
      ],
      "metadata": {
        "id": "8TVwF3OKUKzc"
      }
    },
    {
      "cell_type": "code",
      "source": [
        "alphabets = ['a','e','d','c','b']\n",
        "alphabets.sort()\n",
        "print(alphabets)\n",
        "\n",
        "random_numbers = [2,5,6,1,8,3]\n",
        "random_numbers.sort()\n",
        "print(random_numbers)"
      ],
      "metadata": {
        "id": "MAekSGMrUmXE"
      },
      "execution_count": null,
      "outputs": []
    },
    {
      "cell_type": "markdown",
      "source": [
        "## tuple"
      ],
      "metadata": {
        "id": "tp3JFaQPUvei"
      }
    },
    {
      "cell_type": "markdown",
      "source": [
        "Python Tuples is an immutable collection of that are more like lists. Python Provides a couple of methods to work with tuples.\n",
        "\n",
        "Tuples are used to store multiple items in a single variable.\n",
        "Unlike lists, tuples cannot be modified after their creation.\n",
        "\n"
      ],
      "metadata": {
        "id": "iioPojNUUy1o"
      }
    },
    {
      "cell_type": "code",
      "source": [
        "# Creating tuples\n",
        "Tuple1 = (0, 1, 2, 3, 2, 3, 1, 3, 2)\n",
        "Tuple2 = ('python', 'geek', 'python',\n",
        "          'for', 'java', 'python')\n"
      ],
      "metadata": {
        "id": "BgM7jEVyViDJ"
      },
      "execution_count": null,
      "outputs": []
    },
    {
      "cell_type": "markdown",
      "source": [
        "**Methods**\n",
        "\n",
        "**Accessing Elements:** Use indexing, similar to lists.\n",
        "\n",
        "**Slicing:** Extract a portion of the tuple.\n",
        "\n",
        "**Concatenation**: Combine tuples with +.\n",
        "\n",
        "**Repetition**: Repeat tuple elements with *\n",
        "\n",
        "**Common Tuple Methods**\n",
        "\n",
        "**count(value):** Returns the number of occurrences of a value.\n",
        "\n",
        "**Index(value)**: Returns the index of the first occurrence of a value\n",
        "\n",
        "**Tuple Unpacking**\n",
        "\n",
        "Tuple unpacking allows you to assign elements of a tuple to multiple"
      ],
      "metadata": {
        "id": "2l6rzHZQVYyK"
      }
    },
    {
      "cell_type": "code",
      "source": [
        "my_tuple = (1, 2, 3, \"hello\")\n",
        "# Accessing\n",
        "print(\"Accesing of tuple\",my_tuple[1])\n",
        "\n",
        "# Slicing\n",
        "print(\"Sliciing Of tuple\",my_tuple[1:3])\n",
        "\n",
        "# Concatenation\n",
        "new_tuple = my_tuple + (4, 5)\n",
        "print(\"Concantenation of\",new_tuple)\n",
        "\n",
        "# Repetition\n",
        "repeated_tuple = my_tuple * 2\n",
        "print(\"Repetation of tuple\",repeated_tuple)\n",
        "\n",
        "# Example Methods\n",
        "example_tuple = (1, 2, 3, 1, 2, 1)\n",
        "\n",
        "# Count occurrences\n",
        "print(\"Count of occureence in tuple\",example_tuple.count(1))\n",
        "\n",
        "# Find index\n",
        "print(\" Index Value of seletcted tuple\",example_tuple.index(2))\n",
        "\n",
        "# Tuple Unpacking\n",
        "coordinates = (4, 5)\n",
        "x, y = coordinates\n",
        "print(\"After Unpacking\",x)  # Output: 4\n",
        "print(\"After Unpacking\",y)  # Output: 5\n"
      ],
      "metadata": {
        "id": "eTK6t3GEWYyv"
      },
      "execution_count": null,
      "outputs": []
    },
    {
      "cell_type": "markdown",
      "source": [
        "## String"
      ],
      "metadata": {
        "id": "h7SFEYG9e0cR"
      }
    },
    {
      "cell_type": "markdown",
      "source": [
        "Strings in python are surrounded by either single quotation marks, or double quotation marks.\n",
        "\n",
        "'hello' is the same as \"hello\"."
      ],
      "metadata": {
        "id": "PWBP35mdclDE"
      }
    },
    {
      "cell_type": "markdown",
      "source": [
        "**String Methods**"
      ],
      "metadata": {
        "id": "yIiwZVNIhFQ8"
      }
    },
    {
      "cell_type": "code",
      "source": [
        "# Python3 program to show the\n",
        "# working of upper() function\n",
        "text = 'Docketrun  tech pvt Ltd'\n",
        "\n",
        "# upper() function to convert\n",
        "# string to upper case\n",
        "print(\"\\nConverted String:\")\n",
        "print(text.upper())\n",
        "\n",
        "# lower() function to convert\n",
        "# string to lower case\n",
        "print(\"\\nConverted String:\")\n",
        "print(text.lower())\n",
        "\n",
        "# converts the first character to\n",
        "# upper case and rest to lower case\n",
        "print(\"\\nConverted String:\")\n",
        "print(text.title())\n",
        "\n",
        "# swaps the case of all characters in the string\n",
        "# upper case character to lowercase and viceversa\n",
        "print(\"\\nConverted String:\")\n",
        "print(text.swapcase())\n",
        "\n",
        "# convert the first character of a string to uppercase\n",
        "print(\"\\nConverted String:\")\n",
        "print(text.capitalize())\n",
        "\n",
        "# original string never changes\n",
        "print(\"\\nOriginal String\")\n",
        "print(text)"
      ],
      "metadata": {
        "id": "nUGlNYOUgu7D"
      },
      "execution_count": null,
      "outputs": []
    },
    {
      "cell_type": "markdown",
      "source": [
        "## Conditional Statements"
      ],
      "metadata": {
        "id": "aeFEpTbMhPD0"
      }
    },
    {
      "cell_type": "markdown",
      "source": [
        "Conditional statements allow the program to make decisions based on conditions.\n",
        "They control the flow of execution.\n"
      ],
      "metadata": {
        "id": "cyjdo3UehfQX"
      }
    },
    {
      "cell_type": "code",
      "source": [
        "i = 20\n",
        "if (i < 15):\n",
        "    print(\"i is smaller than 15\")\n",
        "    print(\"i'm in if Block\")\n",
        "else:\n",
        "    print(\"i is greater than 15\")\n",
        "    print(\"i'm in else Block\")\n",
        "print(\"i'm not in if and not in else Block\")"
      ],
      "metadata": {
        "id": "x89pU8xHhidR"
      },
      "execution_count": null,
      "outputs": []
    },
    {
      "cell_type": "code",
      "source": [
        "i = 25\n",
        "if (i == 10):\n",
        "    print(\"i is 10\")\n",
        "elif (i == 15):\n",
        "    print(\"i is 15\")\n",
        "elif (i == 20):\n",
        "    print(\"i is 20\")\n",
        "else:\n",
        "    print(\"i is not present\")"
      ],
      "metadata": {
        "id": "HC5H3fxOrPUz"
      },
      "execution_count": null,
      "outputs": []
    },
    {
      "cell_type": "markdown",
      "source": [
        "## Loops"
      ],
      "metadata": {
        "id": "RteVCR5Srpgv"
      }
    },
    {
      "cell_type": "markdown",
      "source": [
        "Loops are an essential construct in all programming languages. In a loop structure, the program first checks for a condition. If this condition is true, some piece of code is run. This code will keep on running unless the condition becomes invalid.\n",
        "Types of Loops:\n",
        "For Loop:Iterate a predefined number of times. and Iterates over a sequence (like a list or a range).\n",
        "While Loop: Continues to execute as long as a specified condition is True.\n",
        "\n",
        "\n",
        "\n"
      ],
      "metadata": {
        "id": "6zD86YX7rbcg"
      }
    },
    {
      "cell_type": "markdown",
      "source": [
        "**For Loop**"
      ],
      "metadata": {
        "id": "94oWyVU7tChQ"
      }
    },
    {
      "cell_type": "code",
      "source": [
        "for i in range(10):  # collection of numbers from 0 to 9\n",
        "    print(i)"
      ],
      "metadata": {
        "id": "S9Hbslc_rTIj"
      },
      "execution_count": null,
      "outputs": []
    },
    {
      "cell_type": "code",
      "source": [
        "for i in range(10):  # numbers from 0-9\n",
        "    if i % 2 == 0:  # is divsible by 2? (even number)\n",
        "        print(i) # then print."
      ],
      "metadata": {
        "id": "biTtqQkFtSaQ"
      },
      "execution_count": null,
      "outputs": []
    },
    {
      "cell_type": "markdown",
      "source": [
        "**While Loop**"
      ],
      "metadata": {
        "id": "OQgOcnNytMlh"
      }
    },
    {
      "cell_type": "code",
      "source": [
        "n = 0\n",
        "while n < 10: # while n is less than 10,\n",
        "    print(n) # print out the value of n\n",
        "    n += 1 #"
      ],
      "metadata": {
        "id": "V_VjEkCQtYiI"
      },
      "execution_count": null,
      "outputs": []
    },
    {
      "cell_type": "code",
      "source": [
        "numbers = [0, 5, 10, 6, 3]\n",
        "length = len(numbers) # get length of array.\n",
        "n = 0\n",
        "while n < length: # loop condition\n",
        "    print(numbers[n])\n",
        "    n += 1"
      ],
      "metadata": {
        "id": "hckLqO_HtuNf"
      },
      "execution_count": null,
      "outputs": []
    },
    {
      "cell_type": "markdown",
      "source": [
        "**Loop Controls**"
      ],
      "metadata": {
        "id": "GbOpSgeAt_xr"
      }
    },
    {
      "cell_type": "code",
      "source": [
        "# Break\n",
        "names = [\"Bill Gates\", \"Billie Eilish\", \"Mark Zuckerberg\", \"Hussain\"]\n",
        "for name in names:\n",
        "    if name == \"Mark Zuckerberg\":\n",
        "        print(\"loop exit here.\")\n",
        "        break  # end this loop if condition is true.\n",
        "    print(name)\n",
        "print(\"Out of the loop\")"
      ],
      "metadata": {
        "id": "PodLuEBwuEDW"
      },
      "execution_count": null,
      "outputs": []
    },
    {
      "cell_type": "code",
      "source": [
        "# Contine\n",
        "names = [\"Bill Gates\", \"Billie Eilish\", \"Mark Zuckerberg\", \"Hussain\"]\n",
        "for name in names:\n",
        "    if name == \"Mark Zuckerberg\":\n",
        "        print(\"Skipping this iteration.\")\n",
        "        continue  # Skip iteration if true.\n",
        "    print(name)\n",
        "print(\"Out of the loop\")"
      ],
      "metadata": {
        "id": "ZoGM96ZnuMFE"
      },
      "execution_count": null,
      "outputs": []
    },
    {
      "cell_type": "markdown",
      "source": [
        "## Funtions"
      ],
      "metadata": {
        "id": "JSmU40favc-p"
      }
    },
    {
      "cell_type": "markdown",
      "source": [
        "Python Functions is a block of statements that return the specific task. The idea is to put some commonly or repeatedly done tasks together and make a function so that instead of writing the same code again and again for different inputs, we can do the function calls to reuse code contained in it over and over again.\n",
        "\n",
        "Some Benefits of Using Functions\n",
        "\n",
        "Increase Code Readability\n",
        "\n",
        "Increase Code Reusability\n",
        "\n",
        "![image.png](data:image/png;base64,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)"
      ],
      "metadata": {
        "id": "enhLNlJLva6W"
      }
    },
    {
      "cell_type": "code",
      "source": [
        "# A simple Python function\n",
        "def fun():\n",
        "    print(\"Welcome to DocketRun\")\n",
        "fun()"
      ],
      "metadata": {
        "id": "LjcfKcdmusax"
      },
      "execution_count": null,
      "outputs": []
    },
    {
      "cell_type": "markdown",
      "source": [
        "**Parametrized Function**"
      ],
      "metadata": {
        "id": "qhiENLF3wfP8"
      }
    },
    {
      "cell_type": "code",
      "source": [
        "def add(num1: int, num2: int) -> int:\n",
        "    \"\"\"Add two numbers\"\"\"\n",
        "    num3 = num1 + num2\n",
        "\n",
        "    return num3\n",
        "\n",
        "# Driver code\n",
        "num1, num2 = 5, 15\n",
        "ans = add(num1, num2)\n",
        "print(f\"The addition of {num1} and {num2} results {ans}.\")"
      ],
      "metadata": {
        "id": "P4Joq7M9uTbq"
      },
      "execution_count": null,
      "outputs": []
    },
    {
      "cell_type": "code",
      "source": [
        "# Python Function Arguments\n",
        "def evenOdd(x):\n",
        "    if (x % 2 == 0):\n",
        "        print(\"even\")\n",
        "    else:\n",
        "        print(\"odd\")\n",
        "\n",
        "\n",
        "# Driver code to call the function\n",
        "evenOdd(2)\n",
        "evenOdd(3)"
      ],
      "metadata": {
        "id": "J0-uh3rJwkDE"
      },
      "execution_count": null,
      "outputs": []
    },
    {
      "cell_type": "code",
      "source": [
        "# Default Arguments\n",
        "def myFun(x, y=50):\n",
        "    print(\"x: \", x)\n",
        "    print(\"y: \", y)\n",
        "\n",
        "\n",
        "# Driver code (We call myFun() with only\n",
        "# argument)\n",
        "myFun(10)"
      ],
      "metadata": {
        "id": "aQhn7suaw2dB"
      },
      "execution_count": null,
      "outputs": []
    },
    {
      "cell_type": "markdown",
      "metadata": {
        "id": "6X4WJo3iM6m9"
      },
      "source": [
        "# NumPy"
      ]
    },
    {
      "cell_type": "markdown",
      "metadata": {
        "id": "_H3bNbLloXCY"
      },
      "source": [
        "NumPy is a popular library for storing arrays of numbers and performing computations on them. Not only this enables to write often more succint code, this also makes the code faster, since most NumPy routines are implemented in C for speed."
      ]
    },
    {
      "cell_type": "markdown",
      "metadata": {
        "id": "M7tI3XLhqwSX"
      },
      "source": [
        "To use NumPy in your program, you need to import it as follows"
      ]
    },
    {
      "cell_type": "code",
      "metadata": {
        "id": "phSPPyfyq2gX"
      },
      "source": [
        "import numpy as np"
      ],
      "execution_count": null,
      "outputs": []
    },
    {
      "cell_type": "markdown",
      "metadata": {
        "id": "9secCfFLNHEE"
      },
      "source": [
        "## Array creation\n",
        "\n"
      ]
    },
    {
      "cell_type": "markdown",
      "metadata": {
        "id": "LSS2wEnkq97n"
      },
      "source": [
        "NumPy arrays can be created from Python lists"
      ]
    },
    {
      "cell_type": "code",
      "metadata": {
        "id": "Hfeg286yrLvJ"
      },
      "source": [
        "my_array = np.array([1, 2, 3])\n",
        "my_array"
      ],
      "execution_count": null,
      "outputs": []
    },
    {
      "cell_type": "markdown",
      "metadata": {
        "id": "Sy2EvrxFriAG"
      },
      "source": [
        "NumPy supports array of arbitrary dimension. For example, we can create two-dimensional arrays (e.g. to store a matrix) as follows"
      ]
    },
    {
      "cell_type": "code",
      "metadata": {
        "id": "wM-GYVMsrzNs"
      },
      "source": [
        "my_2d_array = np.array([[1, 2, 3], [4, 5, 6]])\n",
        "my_2d_array"
      ],
      "execution_count": null,
      "outputs": []
    },
    {
      "cell_type": "markdown",
      "metadata": {
        "id": "-kZMzYsAsVAc"
      },
      "source": [
        "We can access individual elements of a 2d-array using two indices"
      ]
    },
    {
      "cell_type": "code",
      "metadata": {
        "id": "4q8X86BbscPd"
      },
      "source": [
        "my_2d_array[0, 2]"
      ],
      "execution_count": null,
      "outputs": []
    },
    {
      "cell_type": "markdown",
      "metadata": {
        "id": "OfVIKyxkTh0p"
      },
      "source": [
        "We can also access rows"
      ]
    },
    {
      "cell_type": "code",
      "metadata": {
        "id": "CrKnDAtyTlYe"
      },
      "source": [
        "my_2d_array[1]"
      ],
      "execution_count": null,
      "outputs": []
    },
    {
      "cell_type": "markdown",
      "metadata": {
        "id": "keWK_5PHr9Q2"
      },
      "source": [
        "Arrays have a `shape` attribute"
      ]
    },
    {
      "cell_type": "code",
      "metadata": {
        "id": "5QIo7l1Yr8m7"
      },
      "source": [
        "print(my_array.shape)\n",
        "print(my_2d_array.shape)"
      ],
      "execution_count": null,
      "outputs": []
    },
    {
      "cell_type": "markdown",
      "metadata": {
        "id": "LmX0EDWVsoDY"
      },
      "source": [
        "Contrary to Python lists, NumPy arrays must have a type and all elements of the array must have the same type."
      ]
    },
    {
      "cell_type": "code",
      "metadata": {
        "id": "FZjOowkls57o"
      },
      "source": [
        "my_array.dtype"
      ],
      "execution_count": null,
      "outputs": []
    },
    {
      "cell_type": "markdown",
      "metadata": {
        "id": "i5AvLdf7tGnZ"
      },
      "source": [
        "The main types are `int32` (32-bit integers), `int64` (64-bit integers), `float32` (32-bit real values) and `float64` (64-bit real values)."
      ]
    },
    {
      "cell_type": "markdown",
      "metadata": {
        "id": "w8ym2qZCt9Nm"
      },
      "source": [
        "The `dtype` can be specified when creating the array"
      ]
    },
    {
      "cell_type": "code",
      "metadata": {
        "id": "gXpM_FqruCVv"
      },
      "source": [
        "my_array = np.array([1, 2, 3], dtype=np.float64)\n",
        "my_array.dtype"
      ],
      "execution_count": null,
      "outputs": []
    },
    {
      "cell_type": "markdown",
      "metadata": {
        "id": "WueaRIONuTdS"
      },
      "source": [
        "We can create arrays of all zeros using"
      ]
    },
    {
      "cell_type": "code",
      "metadata": {
        "id": "jbD8N1UauK8r"
      },
      "source": [
        "zero_array = np.zeros((2, 3))\n",
        "zero_array"
      ],
      "execution_count": null,
      "outputs": []
    },
    {
      "cell_type": "markdown",
      "metadata": {
        "id": "vn5go6qoudo4"
      },
      "source": [
        "and similarly for all ones using `ones` instead of `zeros`."
      ]
    },
    {
      "cell_type": "markdown",
      "metadata": {
        "id": "1kCRlhLJuvZ6"
      },
      "source": [
        "We can create a range of values using"
      ]
    },
    {
      "cell_type": "code",
      "metadata": {
        "id": "EcQXDeEmuxpO"
      },
      "source": [
        "np.arange(5)"
      ],
      "execution_count": null,
      "outputs": []
    },
    {
      "cell_type": "markdown",
      "metadata": {
        "id": "ZvJECk6Iu3uF"
      },
      "source": [
        "or specifying the starting point"
      ]
    },
    {
      "cell_type": "code",
      "metadata": {
        "id": "Pk3UzL3du_f8"
      },
      "source": [
        "np.arange(3, 5)"
      ],
      "execution_count": null,
      "outputs": []
    },
    {
      "cell_type": "markdown",
      "metadata": {
        "id": "f1JtqFSivJKG"
      },
      "source": [
        "Another useful routine is `linspace` for creating linearly spaced values in an interval. For instance, to create 10 values in `[0, 1]`, we can use"
      ]
    },
    {
      "cell_type": "code",
      "metadata": {
        "id": "udHHjGAHvOQM"
      },
      "source": [
        "np.linspace(0, 1, 10)"
      ],
      "execution_count": null,
      "outputs": []
    },
    {
      "cell_type": "markdown",
      "metadata": {
        "id": "WbcxAKobvgUT"
      },
      "source": [
        "Another important operation is `reshape`, for changing the shape of an array"
      ]
    },
    {
      "cell_type": "code",
      "metadata": {
        "id": "4FPzTuDlvlLO"
      },
      "source": [
        "my_array = np.array([1, 2, 3, 4, 5, 6])\n",
        "my_array.reshape(3, 2)"
      ],
      "execution_count": null,
      "outputs": []
    },
    {
      "cell_type": "markdown",
      "metadata": {
        "id": "G-QR80_g3N9Y"
      },
      "source": [
        "Play with these operations and make sure you understand them well."
      ]
    },
    {
      "cell_type": "markdown",
      "metadata": {
        "id": "f9B0iCBlmfeY"
      },
      "source": [
        "## Basic operations"
      ]
    },
    {
      "cell_type": "markdown",
      "metadata": {
        "id": "elQGgkqDxKLV"
      },
      "source": [
        "In NumPy, we express computations directly over arrays. This makes the code much more succint."
      ]
    },
    {
      "cell_type": "markdown",
      "metadata": {
        "id": "hkCU1T8ixghX"
      },
      "source": [
        "Arithmetic operations can be performed directly over arrays. For instance, assuming two arrays have a compatible shape, we can add them as follows"
      ]
    },
    {
      "cell_type": "code",
      "metadata": {
        "id": "4AoiRq42x5mI"
      },
      "source": [
        "array_a = np.array([1, 2, 3])\n",
        "array_b = np.array([4, 5, 6])\n",
        "array_a + array_b"
      ],
      "execution_count": null,
      "outputs": []
    },
    {
      "cell_type": "markdown",
      "metadata": {
        "id": "SyPqME2EyD4x"
      },
      "source": [
        "Compare this with the equivalent computation using a for loop"
      ]
    },
    {
      "cell_type": "code",
      "metadata": {
        "id": "HxRFA_U2yfI-"
      },
      "source": [
        "array_out = np.zeros_like(array_a)\n",
        "print(array_out)\n",
        "for i in range(len(array_a)):\n",
        "  array_out[i] = array_a[i] + array_b[i]\n",
        "array_out"
      ],
      "execution_count": null,
      "outputs": []
    },
    {
      "cell_type": "markdown",
      "source": [
        "# Matplotlib"
      ],
      "metadata": {
        "id": "r1pjDe7N072X"
      }
    },
    {
      "cell_type": "markdown",
      "source": [
        "**Matplotlib** is a low level graph plotting library in python that serves as a visualization utility.\n",
        "\n",
        "Matplotlib is a plotting library for Python.\n",
        "It provides a MATLAB-like interface for creating static, animated, and interactive visualizations.\n",
        "\n",
        "**Key Features:**\n",
        "High-quality plots and visualizations\n",
        "Support for various types of charts"
      ],
      "metadata": {
        "id": "vlRoECJc1Ate"
      }
    },
    {
      "cell_type": "code",
      "source": [
        "import matplotlib.pyplot as plt\n",
        "import numpy as np\n",
        "\n",
        "xpoints = np.array([0, 6])\n",
        "ypoints = np.array([0, 250])\n",
        "\n",
        "plt.plot(xpoints, ypoints)\n",
        "plt.show()"
      ],
      "metadata": {
        "id": "gneIQ4ae1n2t"
      },
      "execution_count": null,
      "outputs": []
    },
    {
      "cell_type": "markdown",
      "source": [
        "**Plotting x and y points**\n",
        "The plot() function is used to draw points (markers) in a diagram.\n",
        "\n",
        "By default, the plot() function draws a line from point to point.\n",
        "\n",
        "The function takes parameters for specifying points in the diagram.\n",
        "\n",
        "Parameter 1 is an array containing the points on the x-axis.\n",
        "\n",
        "Parameter 2 is an array containing the points on the y-axis.\n",
        "\n",
        "**Markers**\n",
        "You can use the keyword argument marker to emphasize each point with a specified marker:\n",
        "\n",
        "'o'\tCircle\n",
        "'*'\tStar\n",
        "'.'\tPoint\n",
        "','\tPixel\n",
        "'x'\tX\n",
        "\n",
        "More...\n",
        "\n"
      ],
      "metadata": {
        "id": "2m8TujRs1YWg"
      }
    },
    {
      "cell_type": "code",
      "source": [
        "import matplotlib.pyplot as plt\n",
        "\n",
        "xpoints=([1,2,3,4])\n",
        "ypoints = ([3, 8, 1, 10])\n",
        "\n",
        "plt.plot(xpoints,ypoints, marker = '')\n",
        "plt.show()"
      ],
      "metadata": {
        "id": "10atoTcQ3yMO"
      },
      "execution_count": null,
      "outputs": []
    },
    {
      "cell_type": "markdown",
      "source": [
        "**Linestyle**\n",
        "You can use the keyword argument linestyle, or shorter ls, to change the style of the plotted line:\n",
        "\n",
        "'solid' (default)\t'-'\n",
        "'dotted'\t':'\n",
        "'dashed'\t'--'\n",
        "'dashdot'\t'-.'\n",
        "'None'\t'' or ' '\n",
        "\n",
        "**Create Labels for a Plot**\n",
        "With Pyplot, you can use the xlabel() and ylabel() functions to set a label for the x- and y-axis.\n",
        "\n",
        "**Line Width**\n",
        "You can use the keyword argument linewidth or the shorter lw to change the width of the line.\n",
        "\n",
        "The value is a floating number, in points:"
      ],
      "metadata": {
        "id": "yFqvJ0dM4yqZ"
      }
    },
    {
      "cell_type": "code",
      "source": [
        "import matplotlib.pyplot as plt\n",
        "x = np.array([80, 85, 90, 95, 100, 105, 110, 115, 120, 125])\n",
        "y = np.array([240, 250, 260, 270, 280, 290, 300, 310, 320, 330])\n",
        "\n",
        "plt.plot(x, y, linestyle='dotted', linewidth=2.5)\n",
        "\n",
        "plt.xlabel(\"Average Pulse\")\n",
        "plt.ylabel(\"Calorie Burnage\")\n",
        "plt.show()"
      ],
      "metadata": {
        "id": "FRRQwfm95CX1"
      },
      "execution_count": null,
      "outputs": []
    },
    {
      "cell_type": "markdown",
      "source": [
        "**Bar chart**"
      ],
      "metadata": {
        "id": "kui2BgaG6gtS"
      }
    },
    {
      "cell_type": "markdown",
      "source": [
        "Creating Bars\n",
        "With Pyplot, you can use the bar() function to draw bar graphs:\n",
        "\n"
      ],
      "metadata": {
        "id": "bi20S4_d6lzY"
      }
    },
    {
      "cell_type": "code",
      "source": [
        "import matplotlib.pyplot as plt\n",
        "import numpy as np\n",
        "\n",
        "x = np.array([\"A\", \"B\", \"C\", \"D\"])\n",
        "y = np.array([3, 8, 1, 10])\n",
        "\n",
        "plt.bar(x,y, width=0.1, color=\"blue\")\n",
        "plt.show()"
      ],
      "metadata": {
        "id": "yv2AVxYf6sXJ"
      },
      "execution_count": null,
      "outputs": []
    }
  ]
}